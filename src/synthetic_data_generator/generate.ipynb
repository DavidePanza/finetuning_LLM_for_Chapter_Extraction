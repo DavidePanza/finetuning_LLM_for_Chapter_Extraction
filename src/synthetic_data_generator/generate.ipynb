{
 "cells": [
  {
   "cell_type": "code",
   "execution_count": 8,
   "id": "390a5dbe",
   "metadata": {},
   "outputs": [],
   "source": [
    "from generator import generate_synthetic_data\n",
    "import logging\n",
    "import sys\n",
    "import json \n",
    "import pickle\n",
    "import random"
   ]
  },
  {
   "cell_type": "markdown",
   "id": "3477b911",
   "metadata": {},
   "source": [
    "### Setup Logging"
   ]
  },
  {
   "cell_type": "code",
   "execution_count": 9,
   "id": "0eb9c6c7",
   "metadata": {},
   "outputs": [],
   "source": [
    "# set logging\n",
    "logging.getLogger().handlers.clear()\n",
    "logging.basicConfig(\n",
    "    level=logging.DEBUG,  # Set to DEBUG\n",
    "    format='%(levelname)s: %(message)s',\n",
    "    stream=sys.stdout,\n",
    "    force=True\n",
    ")\n",
    "logging.getLogger().setLevel(logging.WARNING)"
   ]
  },
  {
   "cell_type": "markdown",
   "id": "007f2fda",
   "metadata": {},
   "source": [
    "### Load JSON and Additional Required Data"
   ]
  },
  {
   "cell_type": "code",
   "execution_count": 19,
   "id": "160584ab",
   "metadata": {},
   "outputs": [],
   "source": [
    "data_path = \"../../synthetic_data/json/all_full.json\"\n",
    "with open(data_path, \"r\", encoding=\"utf-8\") as f:\n",
    "    json_data = json.load(f)\n",
    "\n",
    "with open(\"../../synthetic_data/noise_toc.pkl\", \"rb\") as f:\n",
    "    toc_noise = pickle.load(f)"
   ]
  },
  {
   "cell_type": "markdown",
   "id": "11e32a05",
   "metadata": {},
   "source": [
    "### Generate"
   ]
  },
  {
   "cell_type": "code",
   "execution_count": 20,
   "id": "2fd3fc84",
   "metadata": {},
   "outputs": [
    {
     "name": "stderr",
     "output_type": "stream",
     "text": [
      "/Users/davide/Documents/Projects/Chapter_Extractor/src/synthetic_data_generator/utils.py:29: UserWarning: max range set equal to book's chapters number \n",
      "  warnings.warn(\"max range set equal to book's chapters number \", category=UserWarning)\n"
     ]
    }
   ],
   "source": [
    "# Randomness parameters for synthetic data generation\n",
    "subchapters_random_noise_param = [.1, .2, .3]\n",
    "chapters_random_noise_param = [.1, .3]\n",
    "chapters_systemic_noise_param = [.1, .1, .3]\n",
    "add_subchapters_param = [.2, .3]\n",
    "\n",
    "# parameters for the number of iterations\n",
    "n_iterations = 1\n",
    "synthetic_data = []\n",
    "\n",
    "for chapters_random_noise in chapters_random_noise_param:\n",
    "    for subchapters_random_noise in subchapters_random_noise_param:\n",
    "        for chapters_systemic_noise in chapters_systemic_noise_param:\n",
    "            for add_subchapters in add_subchapters_param:\n",
    "                randomness_parameters = {\n",
    "                    \"subchapter_random_noise\": subchapters_random_noise,\n",
    "                    \"chapter_random_noise\": chapters_random_noise,\n",
    "                    \"chapter_systemic_noise\": chapters_systemic_noise,\n",
    "                    \"add_subchapter\": add_subchapters\n",
    "                }\n",
    "                logging.info(f\"Using TOC noise: {toc_noise}\")\n",
    "                # Generate synthetic data for the current noise configuration\n",
    "                for iteration in range(n_iterations):\n",
    "                    logging.info(f\"Iteration {iteration + 1} of {n_iterations}\")\n",
    "                    # Generate synthetic data\n",
    "                    synthetic_data.extend(generate_synthetic_data(\n",
    "                        json_data=json_data,\n",
    "                        toc_noise=toc_noise,\n",
    "                        **randomness_parameters\n",
    "                    ))\n",
    "                    "
   ]
  },
  {
   "cell_type": "code",
   "execution_count": 31,
   "id": "2908f1f5",
   "metadata": {},
   "outputs": [
    {
     "name": "stdout",
     "output_type": "stream",
     "text": [
      "chapter 1 Smart Grid and Energy Management\n",
      "3\n",
      " 1.1 Distributed Energy Resources\n",
      " 1.2 Smart Grid Infrastructure\n",
      "  1.3 Future Grid Technologies\n",
      "[<\n",
      "1.4 Consumer Energy Portals\n",
      "chapter 2 Green Building and Energy Efficiency\n",
      "  37\n",
      "2.1 Water Conservation Systems\n",
      "  2.2 HVAC Optimization Technologies\n",
      "2.3 Energy Audit and Assessment\n",
      "2.4 Green Roof and Wall Systems\n",
      "2.5 Smart Window Technologies\n",
      "2.6 Retrofitting and Modernization\n",
      "2.7 Indoor Air Quality Management\n",
      "  2.8 Building Energy Management Systems\n",
      "2.9 Building Automation Systems\n",
      "3.0 LED Lighting and Smart Controls\n",
      "3.1 Passive House Design Principles\n",
      "chapter 3 Energy Storage and Battery Technology\n",
      "69\n",
      " 3.1 Hydrogen Storage Solutions\n",
      "3.2 Compressed Air Energy Storage\n",
      "for software systems Testing and procedures validation\n",
      "3.3 Residential Storage Solutions\n",
      "3.4 Emerging Storage Technologies\n",
      "3.5 Lithium-Ion Battery Systems\n",
      " 3.6 Safety and Risk Management\n",
      "3.7 Electric Vehicle Battery Integration\n",
      "3.8 Thermal Energy Storage\n",
      "3.9 Economic Viability Analysis\n",
      "4.0 Grid-Scale Storage Systems\n",
      " 4.1 Flow Battery Technologies\n",
      "4.2 Pumped Hydro Storage\n",
      "4.3 Recycling and Sustainability\n",
      "4.4 Flywheel Energy Storage\n",
      "4.5 Battery Management Systems\n",
      "and work Team\n",
      "chapter 4 Electric Vehicle Infrastructure\n",
      " 97\n",
      "<;\n",
      " 4.1 Public Transportation Electrification\n",
      "  4.2 Charging Standards and Protocols\n",
      " 4.3 Fleet Management Solutions\n",
      "4.4 Charging Infrastructure Planning\n",
      "4.5 Battery Swapping Stations\n",
      "  4.6 Grid Impact Analysis\n",
      "4.7 Fast Charging Technologies\n",
      "  4.8 Payment and Billing Systems\n",
      "4.9 Wireless Charging Systems\n",
      "34\n",
      "chapter 5 Renewable Energy Systems\n",
      "109\n",
      "• • • • • • • •\n",
      "5.1 Renewable Energy Storage\n",
      "scenarios business Practical in applications real-world\n",
      "5.2 Future Renewable Technologies\n",
      "  5.3 Hydroelectric Power Solutions\n",
      "5.4 Geothermal Energy Applications\n",
      "5.5 Environmental Impact Assessment\n",
      " 5.6 Grid Integration Challenges\n",
      "1\n",
      "5.7 Solar Power Technology Advances\n",
      "5.8 Policy and Regulatory Framework\n",
      "5.9 Hybrid Renewable Systems\n",
      "|=^\n",
      " 6.0 Wind Energy Generation Systems\n",
      "6.1 Biomass and Bioenergy Systems\n",
      " 6.2 Ocean and Tidal Energy\n",
      "6.3 Energy Conversion Efficiency\n",
      "6.4 Cost Analysis and Economics\n",
      " 6.5 Distributed Generation Networks\n",
      "chapter 6 Hydrogen and Fuel Cell Technology\n",
      " 142\n",
      "  6.1 Fuel Cell Manufacturing\n",
      "6.2 Future Hydrogen Economy\n",
      "6.3 Electrolysis and Green Hydrogen\n",
      "chapter 7 Carbon Capture and Climate Solutions\n",
      " 183\n",
      "7.1 Carbon Credit Systems\n",
      " 7.2 Policy and Economic Incentives\n",
      "7.3 Technology Integration\n",
      "7.4 Carbon Mineralization\n",
      " 7.5 Climate Engineering Approaches\n",
      "7.6 Monitoring and Verification\n",
      " 7.7 Enhanced Oil Recovery\n",
      "  7.8 Direct Air Capture Systems\n",
      "7.9 Industrial CCS Applications\n",
      "8.0 Life Cycle Assessment\n",
      "8.1 Ocean Carbon Sequestration\n",
      "chapter 8 Circular Economy and Waste Management\n",
      " 214\n",
      "  8.1 Electronic Waste Management\n",
      " 8.2 Circular Design Principles\n",
      "8.3 Water Treatment and Reuse\n",
      "8.4 Recycling Technology Innovations\n",
      "  8.5 Material Flow Analysis\n",
      " 8.6 Product Life Extension\n",
      "8.7 Waste-to-Energy Systems\n",
      "8.8 Supply Chain Optimization\n",
      "914\n",
      "8.9 Organic Waste Processing\n",
      "assessment Competitive positioning strategic and landscape\n",
      "9.0 Urban Mining Strategies\n",
      "9.1 Industrial Symbiosis\n",
      "9.2 Packaging Sustainability\n",
      "9.3 Digital Tracking and Analytics\n",
      "9.4 Policy and Regulatory Framework\n",
      "\n",
      "```json\n",
      "[\n",
      "{\"chapter_number\": \"1\", \"chapter_title\": \"Smart Grid and Energy Management\", \"start_page\": 3, \"end_page\": 36},\n",
      "{\"chapter_number\": \"2\", \"chapter_title\": \"Green Building and Energy Efficiency\", \"start_page\": 37, \"end_page\": 68},\n",
      "{\"chapter_number\": \"3\", \"chapter_title\": \"Energy Storage and Battery Technology\", \"start_page\": 69, \"end_page\": 96},\n",
      "{\"chapter_number\": \"4\", \"chapter_title\": \"Electric Vehicle Infrastructure\", \"start_page\": 97, \"end_page\": 108},\n",
      "{\"chapter_number\": \"5\", \"chapter_title\": \"Renewable Energy Systems\", \"start_page\": 109, \"end_page\": 141},\n",
      "{\"chapter_number\": \"6\", \"chapter_title\": \"Hydrogen and Fuel Cell Technology\", \"start_page\": 142, \"end_page\": 182},\n",
      "{\"chapter_number\": \"7\", \"chapter_title\": \"Carbon Capture and Climate Solutions\", \"start_page\": 183, \"end_page\": 213},\n",
      "{\"chapter_number\": \"8\", \"chapter_title\": \"Circular Economy and Waste Management\", \"start_page\": 214, \"end_page\": 271}\n",
      "]\n",
      "```\n"
     ]
    }
   ],
   "source": [
    "for i in synthetic_data[200]:\n",
    "    print(i)"
   ]
  },
  {
   "cell_type": "markdown",
   "id": "2e9d245b",
   "metadata": {},
   "source": [
    "### Final Processing and Storage"
   ]
  },
  {
   "cell_type": "code",
   "execution_count": 21,
   "id": "f147cd86",
   "metadata": {},
   "outputs": [],
   "source": [
    "data_full= synthetic_data[:20]  # this is because I ran independently the generator for \n",
    "                            # the full data and the chapters data\n",
    "#data_chapters = synthetic_data[:80]"
   ]
  },
  {
   "cell_type": "code",
   "execution_count": null,
   "id": "694c9c89",
   "metadata": {},
   "outputs": [],
   "source": [
    "all_data = data_full + data_chapters\n",
    "n_data_to_keep = 10000\n",
    "\n",
    "final_data = random.sample(all_data, n_data_to_keep)"
   ]
  },
  {
   "cell_type": "code",
   "execution_count": null,
   "id": "4d5abdf3",
   "metadata": {},
   "outputs": [],
   "source": [
    "# Save the generated data\n",
    "output_path = f\"../../synthetic_data/training_dataset/synthetic_toc.pkl\"\n",
    "with open(output_path, \"wb\") as f:\n",
    "    pickle.dump(final_data, f)\n",
    "\n",
    "logging.info(f\"Saved synthetic data to {output_path}\")\n"
   ]
  },
  {
   "cell_type": "code",
   "execution_count": 34,
   "id": "f1ff4c60",
   "metadata": {},
   "outputs": [
    {
     "data": {
      "text/plain": [
       "4.2"
      ]
     },
     "execution_count": 34,
     "metadata": {},
     "output_type": "execute_result"
    }
   ],
   "source": [
    "42/1000 * 100"
   ]
  },
  {
   "cell_type": "code",
   "execution_count": null,
   "id": "fd1a9d5a",
   "metadata": {},
   "outputs": [],
   "source": []
  }
 ],
 "metadata": {
  "kernelspec": {
   "display_name": "llm_env",
   "language": "python",
   "name": "python3"
  },
  "language_info": {
   "codemirror_mode": {
    "name": "ipython",
    "version": 3
   },
   "file_extension": ".py",
   "mimetype": "text/x-python",
   "name": "python",
   "nbconvert_exporter": "python",
   "pygments_lexer": "ipython3",
   "version": "3.12.9"
  }
 },
 "nbformat": 4,
 "nbformat_minor": 5
}
