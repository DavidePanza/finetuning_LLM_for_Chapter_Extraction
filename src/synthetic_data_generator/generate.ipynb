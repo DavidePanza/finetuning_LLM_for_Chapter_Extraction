{
 "cells": [
  {
   "cell_type": "code",
   "execution_count": 45,
   "id": "390a5dbe",
   "metadata": {},
   "outputs": [],
   "source": [
    "from generator import generate_synthetic_data\n",
    "import logging\n",
    "import sys\n",
    "import json \n",
    "import pickle\n",
    "import random"
   ]
  },
  {
   "cell_type": "markdown",
   "id": "3477b911",
   "metadata": {},
   "source": [
    "### Setup Logging"
   ]
  },
  {
   "cell_type": "code",
   "execution_count": 14,
   "id": "0eb9c6c7",
   "metadata": {},
   "outputs": [],
   "source": [
    "# set logging\n",
    "logging.getLogger().handlers.clear()\n",
    "logging.basicConfig(\n",
    "    level=logging.DEBUG,  # Set to DEBUG\n",
    "    format='%(levelname)s: %(message)s',\n",
    "    stream=sys.stdout,\n",
    "    force=True\n",
    ")\n",
    "logging.getLogger().setLevel(logging.WARNING)"
   ]
  },
  {
   "cell_type": "markdown",
   "id": "007f2fda",
   "metadata": {},
   "source": [
    "### Load JSON and Additional Required Data"
   ]
  },
  {
   "cell_type": "code",
   "execution_count": 27,
   "id": "160584ab",
   "metadata": {},
   "outputs": [],
   "source": [
    "data_path = \"../../synthetic_data/json/all_full.json\"\n",
    "with open(data_path, \"r\", encoding=\"utf-8\") as f:\n",
    "    json_data = json.load(f)\n",
    "\n",
    "with open(\"../../synthetic_data/noise_toc.pkl\", \"rb\") as f:\n",
    "    toc_noise = pickle.load(f)"
   ]
  },
  {
   "cell_type": "markdown",
   "id": "11e32a05",
   "metadata": {},
   "source": [
    "### Generate"
   ]
  },
  {
   "cell_type": "code",
   "execution_count": 28,
   "id": "f987cd3c",
   "metadata": {},
   "outputs": [],
   "source": [
    "# Randomness parameters for synthetic data generation\n",
    "subchapters_random_noise_param = [.1, .2, .3]\n",
    "chapters_random_noise_param = [.1, .3]\n",
    "chapters_systemic_noise_param = [.1, .1, .3]\n",
    "add_subchapters_param = [.2, .3]"
   ]
  },
  {
   "cell_type": "code",
   "execution_count": null,
   "id": "2fd3fc84",
   "metadata": {},
   "outputs": [],
   "source": [
    "# Randomness parameters for synthetic data generation\n",
    "subchapters_random_noise_param = [.1, .2, .3]\n",
    "chapters_random_noise_param = [.1, .3]\n",
    "chapters_systemic_noise_param = [.1, .1, .3]\n",
    "add_subchapters_param = [.2, .3]\n",
    "\n",
    "# parameters for the number of iterations\n",
    "n_iterations = 4\n",
    "synthetic_data = []\n",
    "\n",
    "for chapters_random_noise in chapters_random_noise_param:\n",
    "    for subchapters_random_noise in subchapters_random_noise_param:\n",
    "        for chapters_systemic_noise in chapters_systemic_noise_param:\n",
    "            for add_subchapters in add_subchapters_param:\n",
    "                randomness_parameters = {\n",
    "                    \"subchapter_random_noise\": subchapters_random_noise,\n",
    "                    \"chapter_random_noise\": chapters_random_noise,\n",
    "                    \"chapter_systemic_noise\": chapters_systemic_noise,\n",
    "                    \"add_subchapter\": add_subchapters\n",
    "                }\n",
    "                logging.info(f\"Using TOC noise: {toc_noise}\")\n",
    "                # Generate synthetic data for the current noise configuration\n",
    "                for iteration in range(n_iterations):\n",
    "                    logging.info(f\"Iteration {iteration + 1} of {n_iterations}\")\n",
    "                    # Generate synthetic data\n",
    "                    synthetic_data.extend(generate_synthetic_data(\n",
    "                        json_data=json_data,\n",
    "                        toc_noise=toc_noise,\n",
    "                        **randomness_parameters\n",
    "                    ))\n",
    "                    "
   ]
  },
  {
   "cell_type": "markdown",
   "id": "2e9d245b",
   "metadata": {},
   "source": [
    "### Final Processing and Storage"
   ]
  },
  {
   "cell_type": "code",
   "execution_count": null,
   "id": "694c9c89",
   "metadata": {},
   "outputs": [],
   "source": [
    "#data_full= synthetic_data  # this is because I ran independently the generator for \n",
    "                            # the full data and the chapters data\n",
    "data_chapters = synthetic_data.copy()\n",
    "all_data = data_full + data_chapters\n",
    "n_data_to_keep = 10000\n",
    "\n",
    "final_data = random.sample(all_data, n_data_to_keep)"
   ]
  },
  {
   "cell_type": "code",
   "execution_count": null,
   "id": "4d5abdf3",
   "metadata": {},
   "outputs": [],
   "source": [
    "# Save the generated data\n",
    "output_path = f\"../../synthetic_data/training_dataset/synthetic_toc.pkl\"\n",
    "with open(output_path, \"wb\") as f:\n",
    "    pickle.dump(final_data, f)\n",
    "\n",
    "logging.info(f\"Saved synthetic data to {output_path}\")\n"
   ]
  }
 ],
 "metadata": {
  "kernelspec": {
   "display_name": "llm_env",
   "language": "python",
   "name": "python3"
  },
  "language_info": {
   "codemirror_mode": {
    "name": "ipython",
    "version": 3
   },
   "file_extension": ".py",
   "mimetype": "text/x-python",
   "name": "python",
   "nbconvert_exporter": "python",
   "pygments_lexer": "ipython3",
   "version": "3.12.9"
  }
 },
 "nbformat": 4,
 "nbformat_minor": 5
}
