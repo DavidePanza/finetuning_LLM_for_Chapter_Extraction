{
 "cells": [
  {
   "cell_type": "code",
   "execution_count": 1,
   "id": "390a5dbe",
   "metadata": {},
   "outputs": [],
   "source": [
    "from generator import generate_synthetic_data\n",
    "import logging\n",
    "import sys\n",
    "import json \n",
    "import pickle\n",
    "import random"
   ]
  },
  {
   "cell_type": "markdown",
   "id": "3477b911",
   "metadata": {},
   "source": [
    "### Setup Logging"
   ]
  },
  {
   "cell_type": "code",
   "execution_count": 2,
   "id": "0eb9c6c7",
   "metadata": {},
   "outputs": [],
   "source": [
    "# set logging\n",
    "logging.getLogger().handlers.clear()\n",
    "logging.basicConfig(\n",
    "    level=logging.DEBUG,  # Set to DEBUG\n",
    "    format='%(levelname)s: %(message)s',\n",
    "    stream=sys.stdout,\n",
    "    force=True\n",
    ")\n",
    "logging.getLogger().setLevel(logging.WARNING)"
   ]
  },
  {
   "cell_type": "markdown",
   "id": "007f2fda",
   "metadata": {},
   "source": [
    "### Load JSON and Additional Required Data"
   ]
  },
  {
   "cell_type": "code",
   "execution_count": 18,
   "id": "160584ab",
   "metadata": {},
   "outputs": [],
   "source": [
    "data_path = \"../../synthetic_data/json/all_full.json\"\n",
    "with open(data_path, \"r\", encoding=\"utf-8\") as f:\n",
    "    json_data = json.load(f)\n",
    "\n",
    "with open(\"../../synthetic_data/noise_toc.pkl\", \"rb\") as f:\n",
    "    toc_noise = pickle.load(f)"
   ]
  },
  {
   "cell_type": "markdown",
   "id": "11e32a05",
   "metadata": {},
   "source": [
    "### Generate"
   ]
  },
  {
   "cell_type": "code",
   "execution_count": 19,
   "id": "2fd3fc84",
   "metadata": {},
   "outputs": [],
   "source": [
    "# Randomness parameters for synthetic data generation\n",
    "subchapters_random_noise_param = [.1, .2, .3]\n",
    "chapters_random_noise_param = [.1, .3]\n",
    "chapters_systemic_noise_param = [.1, .1, .3]\n",
    "add_subchapters_param = [.2, .3]\n",
    "\n",
    "# parameters for the number of iterations\n",
    "n_iterations = 3\n",
    "synthetic_data = []\n",
    "\n",
    "for chapters_random_noise in chapters_random_noise_param:\n",
    "    for subchapters_random_noise in subchapters_random_noise_param:\n",
    "        for chapters_systemic_noise in chapters_systemic_noise_param:\n",
    "            for add_subchapters in add_subchapters_param:\n",
    "                randomness_parameters = {\n",
    "                    \"subchapter_random_noise\": subchapters_random_noise,\n",
    "                    \"chapter_random_noise\": chapters_random_noise,\n",
    "                    \"chapter_systemic_noise\": chapters_systemic_noise,\n",
    "                    \"add_subchapter\": add_subchapters\n",
    "                }\n",
    "                logging.info(f\"Using TOC noise: {toc_noise}\")\n",
    "                # Generate synthetic data for the current noise configuration\n",
    "                for iteration in range(n_iterations):\n",
    "                    logging.info(f\"Iteration {iteration + 1} of {n_iterations}\")\n",
    "                    # Generate synthetic data\n",
    "                    synthetic_data.extend(generate_synthetic_data(\n",
    "                        json_data=json_data,\n",
    "                        toc_noise=toc_noise,\n",
    "                        **randomness_parameters\n",
    "                    ))\n",
    "                    "
   ]
  },
  {
   "cell_type": "code",
   "execution_count": 7,
   "id": "2908f1f5",
   "metadata": {},
   "outputs": [
    {
     "name": "stdout",
     "output_type": "stream",
     "text": [
      "1 Digital Marketing for E-commerce   1\n",
      "1.1 Influencer Partnership Programs  1\n",
      "1.2 Cross-Channel Marketing Integration 2\n",
      "1.3 Retargeting and Remarketing 3\n",
      "1.4 Product Photography and Videography   4\n",
      "1.5 Content Marketing for E-commerce 5\n",
      " 1.6 Social Media Marketing Integration  6\n",
      "1.7 Conversion Rate Optimization  8\n",
      " 1.8 Affiliate Marketing Networks 10\n",
      "reengineering Process optimization strategies\n",
      " 1.9 Search Engine Optimization for Products 11\n",
      "1.10 User-Generated Content Campaigns 12\n",
      "1.11 Email Marketing Automation 13\n",
      "5635\n",
      "1.12 Marketing Analytics and Attribution 14\n",
      "1.13 Pay-Per-Click Advertising Strategies 15\n",
      "2 Marketplace and Multi-Vendor Platforms 18\n",
      "2.1 Dispute Resolution Mechanisms 18\n",
      "2.2 Seller Performance Monitoring  19\n",
      "2.3 Category Management Strategies 20\n",
      "2.4 Unified Customer Experience  21\n",
      "2.5 Multi-Vendor Inventory Management   22\n",
      "2.6 Competitive Marketplace Strategies 26\n",
      "2.7 International Marketplace Expansion 29\n",
      "2.8 Commission and Fee Structure   31\n",
      " 2.9 Product Quality Control Systems 32\n",
      "2.10 Payment Distribution Systems 33\n",
      "2.11 Vendor Onboarding and Management  34\n",
      "2.12 Platform Governance and Policies 35\n",
      "strategies Investment capital\n",
      "2.13 Seller Tools and Analytics  36\n",
      "2.14 Brand Protection and IP Rights 37\n",
      "3 Customer Experience and Personalization   39\n",
      "  3.1 Live Chat and Customer Support  41\n",
      "  3.2 Personalization Engine Development 42\n",
      "3.3 User Experience Design Principles  44\n",
      "3.4 Customer Feedback Integration  52\n",
      "3.5 Recommendation System Implementation 53\n",
      "$){\n",
      "3.6 Search and Discovery Optimization  59\n",
      "3.7 Virtual Try-On Technologies  62\n",
      "3.8 Accessibility and Inclusive Design  67\n",
      "245\n",
      "4 Supply Chain and Logistics    71\n",
      "4.1 Real-Time Tracking Systems 71\n",
      "1109\n",
      "4.2 Sustainability in Supply Chain 80\n",
      "[\n",
      "5 E-commerce Platform Development 129\n",
      "  5.1 Payment Gateway Integration 132\n",
      "  5.2 Cloud Infrastructure for Retail 135\n",
      "5.3 User Account and Profile Systems 140\n",
      "5.4 Multi-Language and Currency Support 143\n",
      "5.5 Third-Party Integration APIs  145\n",
      "5.6 Security and Fraud Prevention  146\n",
      "6 Mobile Commerce and Apps 149\n",
      "responsibility and business\n",
      " 6.1 App Performance Optimization  152\n",
      ":>+\n",
      "6.2 User Retention Strategies 158\n",
      "management solutions Common in challenges project and\n",
      "6.3 App Store Optimization 159\n",
      "6.4 Mobile Payment Integration 160\n",
      "6.5 Mobile-First Design Principles 163\n",
      "  6.6 Augmented Reality Features 168\n",
      "6.7 In-App Purchase Systems   171\n",
      "7 Data Analytics and Business Intelligence 176\n",
      "7.1 ROI and Performance Measurement 177\n",
      "7.2 Predictive Analytics Applications  179\n",
      " 7.3 E-commerce Analytics Implementation   181\n",
      "7.4 Inventory Analytics and Optimization 185\n",
      " 7.5 Price Optimization Strategies 186\n",
      "7.6 Customer Lifetime Value Modeling  187\n",
      "7.7 Customer Behavior Analysis 192\n",
      "7.8 Churn Prediction and Prevention 193\n",
      "7.9 Market Trend Analysis  195\n",
      "7.10 A/B Testing and Experimentation 198\n",
      "8 International Expansion and Localization  207\n",
      "8.1 Cultural Adaptation and Sensitivity  210\n",
      "8.2 Tax and Duty Management  211\n",
      "8.3 International Shipping Solutions 215\n",
      "8.4 Cross-Border Data Privacy 216\n",
      "8.5 Global Market Research 217\n",
      "8.6 Local Partnership Development  218\n",
      "8.7 International SEO Optimization 219\n",
      "8.8 Multi-Language Implementation   220\n",
      "8.9 Regulatory Compliance by Region 221\n",
      "8.10 Currency Management Systems 223\n",
      "8.11 Global Brand Management 224\n",
      "8.12 Localization Strategy Development 225\n",
      " 8.13 Local Payment Method Integration 226\n",
      " 8.14 Regional Marketing Strategies 227\n",
      "8.15 Local Customer Support 229\n",
      "9 Payment Systems and Financial Technology  232\n",
      "9.1 Refund and Chargeback Management 237\n",
      "9.2 International Payment Solutions 240\n",
      "9.3 Payment Analytics and Reporting   242\n",
      " 9.4 Subscription Billing Systems  247\n",
      "\n",
      "```json\n",
      "[\n",
      "{\"chapter_number\": \"1\", \"chapter_title\": \"Digital Marketing for E-commerce\", \"start_page\": 1, \"end_page\": 17},\n",
      "{\"chapter_number\": \"2\", \"chapter_title\": \"Marketplace and Multi-Vendor Platforms\", \"start_page\": 18, \"end_page\": 38},\n",
      "{\"chapter_number\": \"3\", \"chapter_title\": \"Customer Experience and Personalization\", \"start_page\": 39, \"end_page\": 70},\n",
      "{\"chapter_number\": \"4\", \"chapter_title\": \"Supply Chain and Logistics\", \"start_page\": 71, \"end_page\": 128},\n",
      "{\"chapter_number\": \"5\", \"chapter_title\": \"E-commerce Platform Development\", \"start_page\": 129, \"end_page\": 148},\n",
      "{\"chapter_number\": \"6\", \"chapter_title\": \"Mobile Commerce and Apps\", \"start_page\": 149, \"end_page\": 175},\n",
      "{\"chapter_number\": \"7\", \"chapter_title\": \"Data Analytics and Business Intelligence\", \"start_page\": 176, \"end_page\": 206},\n",
      "{\"chapter_number\": \"8\", \"chapter_title\": \"International Expansion and Localization\", \"start_page\": 207, \"end_page\": 231},\n",
      "{\"chapter_number\": \"9\", \"chapter_title\": \"Payment Systems and Financial Technology\", \"start_page\": 232, \"end_page\": 248}\n",
      "]\n",
      "```\n"
     ]
    }
   ],
   "source": [
    "for i in synthetic_data[220]:\n",
    "    print(i)"
   ]
  },
  {
   "cell_type": "markdown",
   "id": "2e9d245b",
   "metadata": {},
   "source": [
    "### Final Processing and Storage"
   ]
  },
  {
   "cell_type": "code",
   "execution_count": 20,
   "id": "a5df61f6",
   "metadata": {},
   "outputs": [
    {
     "data": {
      "text/plain": [
       "4536"
      ]
     },
     "execution_count": 20,
     "metadata": {},
     "output_type": "execute_result"
    }
   ],
   "source": [
    "len(synthetic_data)"
   ]
  },
  {
   "cell_type": "code",
   "execution_count": 21,
   "id": "f147cd86",
   "metadata": {},
   "outputs": [],
   "source": [
    "data_full= synthetic_data   # this is because I ran independently the generator for \n",
    "                            # the full data and the chapters data\n",
    "#data_chapters = synthetic_data"
   ]
  },
  {
   "cell_type": "code",
   "execution_count": 22,
   "id": "694c9c89",
   "metadata": {},
   "outputs": [],
   "source": [
    "all_data = data_full + data_chapters\n",
    "n_data_to_keep = 15000\n",
    "\n",
    "final_data = random.sample(all_data, n_data_to_keep)"
   ]
  },
  {
   "cell_type": "code",
   "execution_count": 23,
   "id": "4d5abdf3",
   "metadata": {},
   "outputs": [],
   "source": [
    "# Save the generated data\n",
    "output_path = f\"../../synthetic_data/training_dataset/synthetic_toc.pkl\"\n",
    "with open(output_path, \"wb\") as f:\n",
    "    pickle.dump(final_data, f)\n",
    "\n",
    "logging.info(f\"Saved synthetic data to {output_path}\")\n"
   ]
  },
  {
   "cell_type": "code",
   "execution_count": null,
   "id": "fd1a9d5a",
   "metadata": {},
   "outputs": [],
   "source": []
  }
 ],
 "metadata": {
  "kernelspec": {
   "display_name": "llm_env",
   "language": "python",
   "name": "python3"
  },
  "language_info": {
   "codemirror_mode": {
    "name": "ipython",
    "version": 3
   },
   "file_extension": ".py",
   "mimetype": "text/x-python",
   "name": "python",
   "nbconvert_exporter": "python",
   "pygments_lexer": "ipython3",
   "version": "3.12.9"
  }
 },
 "nbformat": 4,
 "nbformat_minor": 5
}
