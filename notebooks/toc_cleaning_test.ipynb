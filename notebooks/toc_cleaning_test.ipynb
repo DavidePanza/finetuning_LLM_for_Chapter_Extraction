{
 "cells": [
  {
   "cell_type": "code",
   "execution_count": 6,
   "id": "c6a90178",
   "metadata": {},
   "outputs": [],
   "source": [
    "import fitz\n",
    "import warnings\n",
    "from pdfminer.high_level import extract_text, extract_pages"
   ]
  },
  {
   "cell_type": "code",
   "execution_count": null,
   "id": "95cdc857",
   "metadata": {},
   "outputs": [],
   "source": [
    "# Dictionary mapping example keys to PDF paths\n",
    "examples = {\n",
    "    \"pdf_path1\": \"../data/mcelreath_2020_statistical-rethinking.pdf\",\n",
    "    \"pdf_path2\": \"../data/Theory of Statistic.pdf\",\n",
    "    \"pdf_path3\": \"../data/Deep Learning with Python.pdf\",\n",
    "    \"pdf_path4\": \"../data/Natural_Image_Statistics.pdf\",\n",
    "    \"pdf_path5\": \"../data/mml-book.pdf\"\n",
    "}\n",
    "\n",
    "# Dictionary mapping example keys to page ranges to extract content from\n",
    "content_page_ranges = {\n",
    "    \"pdf_path1\": range(5, 8),\n",
    "    \"pdf_path2\": range(10, 17),\n",
    "    \"pdf_path3\": range(7, 13),\n",
    "    \"pdf_path4\": range(4, 13),\n",
    "    \"pdf_path5\": range(2, 5),\n",
    "}\n",
    "\n",
    "# Select example number\n",
    "n_example = 4\n",
    "key = f\"pdf_path{n_example}\"\n",
    "\n",
    "# Open the PDF\n",
    "doc = fitz.open(examples[key])\n",
    "\n",
    "# Extract text from the specified page range\n",
    "chapters_content_list = []\n",
    "for page_num in content_page_ranges[key]:\n",
    "    page = doc[page_num]\n",
    "    text = page.get_text(\"text\")\n",
    "    chapters_content_list.append(text)\n",
    "\n",
    "# Join all text pages into a single string if needed\n",
    "chapters_content = \"\\n\".join(chapters_content_list)\n",
    "\n",
    "print(chapters_content)  # or pass it to your model"
   ]
  },
  {
   "cell_type": "code",
   "execution_count": null,
   "id": "5dbbfa97",
   "metadata": {},
   "outputs": [],
   "source": [
    "def extract_font_info(pdf_path):\n",
    "    doc = fitz.open(pdf_path)\n",
    "    font_data = []\n",
    "    \n",
    "    for page_num in content_page_ranges[key]:\n",
    "        page = doc.load_page(page_num)\n",
    "        blocks = page.get_text(\"dict\")[\"blocks\"]  # Extract text blocks\n",
    "        \n",
    "        for block in blocks:\n",
    "            if \"lines\" in block:\n",
    "                for line in block[\"lines\"]:\n",
    "                    for span in line[\"spans\"]:\n",
    "                        font_data.append({\n",
    "                            \"text\": span[\"text\"],\n",
    "                            # \"font_name\": span[\"font\"],\n",
    "                            # \"font_size\": span[\"size\"],\n",
    "                            # \"color\": span[\"color\"],  # RGB tuple (e.g., (0, 0, 0) for black)\n",
    "                            # \"is_bold\": \"bold\" in span[\"font\"].lower(),\n",
    "                            # \"is_italic\": \"italic\" in span[\"font\"].lower(),\n",
    "                            \"page\": page_num + 1,\n",
    "                            \"coordinates\": (span[\"origin\"][0], span[\"origin\"][1])\n",
    "                        })\n",
    "    return font_data\n",
    "\n",
    "# Usage\n",
    "font_info = extract_font_info(examples[key])\n",
    "\n",
    "\n",
    "def extract_lines_from_font_info(font_info):\n",
    "    \"\"\"\n",
    "    Extracts lines of text from font information based on y-coordinates.\n",
    "    This function assumes that text elements with the same y-coordinate belong to the same line.\n",
    "    \"\"\"\n",
    "    if not font_info:\n",
    "        return []\n",
    "    lines = []\n",
    "    prev_y = None\n",
    "    cur_line = \"\"\n",
    "\n",
    "    for element in font_info:\n",
    "        cur_y = element['coordinates'][1]\n",
    "        if prev_y is None or cur_y == prev_y:\n",
    "            cur_line += \" \" + element['text']\n",
    "        else:\n",
    "            if cur_line.strip():\n",
    "                lines.append(cur_line.strip())\n",
    "            cur_line = element['text']\n",
    "        prev_y = cur_y\n",
    "\n",
    "    # Don't forget the last line\n",
    "    if cur_line.strip():\n",
    "        lines.append(cur_line.strip())\n",
    "\n",
    "    return lines"
   ]
  },
  {
   "cell_type": "code",
   "execution_count": null,
   "id": "7bc99bd6",
   "metadata": {},
   "outputs": [
    {
     "data": {
      "text/plain": [
       "'1.1 What this book is all about . . . . . . . . . . . . . . . . . . . . . . . . . . . . . . . . . . . 1'"
      ]
     },
     "execution_count": 38,
     "metadata": {},
     "output_type": "execute_result"
    }
   ],
   "source": [
    "font_info = extract_font_info(examples[key])\n",
    "lines = extract_lines_from_font_info(font_info)\n",
    "for line in lines:\n",
    "    print(line)"
   ]
  },
  {
   "cell_type": "code",
   "execution_count": null,
   "id": "bad1325d",
   "metadata": {},
   "outputs": [],
   "source": []
  }
 ],
 "metadata": {
  "kernelspec": {
   "display_name": "llm_env",
   "language": "python",
   "name": "python3"
  },
  "language_info": {
   "codemirror_mode": {
    "name": "ipython",
    "version": 3
   },
   "file_extension": ".py",
   "mimetype": "text/x-python",
   "name": "python",
   "nbconvert_exporter": "python",
   "pygments_lexer": "ipython3",
   "version": "3.12.9"
  }
 },
 "nbformat": 4,
 "nbformat_minor": 5
}
