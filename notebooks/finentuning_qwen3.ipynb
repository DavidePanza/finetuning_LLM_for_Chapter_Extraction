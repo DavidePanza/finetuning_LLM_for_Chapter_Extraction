{
 "cells": [
  {
   "cell_type": "code",
   "execution_count": null,
   "id": "540ef876",
   "metadata": {},
   "outputs": [],
   "source": [
    "pip install torch transformers datasets peft accelerate bitsandbytes\n",
    "pip install trl  \n",
    "pip install huggingface_hub"
   ]
  }
 ],
 "metadata": {
  "language_info": {
   "name": "python"
  }
 },
 "nbformat": 4,
 "nbformat_minor": 5
}
